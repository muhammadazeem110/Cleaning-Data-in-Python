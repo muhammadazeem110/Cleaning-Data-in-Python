{
 "cells": [
  {
   "cell_type": "code",
   "execution_count": 53,
   "metadata": {},
   "outputs": [],
   "source": [
    "# Import libraries\n",
    "import pandas as pd\n",
    "import numpy as np\n",
    "import matplotlib.pyplot as plt"
   ]
  },
  {
   "cell_type": "markdown",
   "metadata": {},
   "source": [
    "## Task 1: Loading and Inspecting the Data\n",
    "\n",
    "We will be working with a dataset of audiobooks downloaded from audible.in from 1998 to 2025 (pre-planned releases). [Source](https://www.kaggle.com/datasets/snehangsude/audible-dataset)\n",
    "\n",
    "The first thing we will do is load the raw audible data.\n",
    "\n",
    "### Instructions:\n",
    "* Using pandas, read the `audible_raw.csv` file that is located inside the `data` folder in our local directory. Assign to `audible`.\n",
    "* Show the first few rows of the `audible` data frame."
   ]
  },
  {
   "cell_type": "code",
   "execution_count": 54,
   "metadata": {},
   "outputs": [
    {
     "name": "stdout",
     "output_type": "stream",
     "text": [
      "Empty DataFrame\n",
      "Columns: [name, author, narrator, time, releasedate, language, stars, price]\n",
      "Index: []\n"
     ]
    }
   ],
   "source": [
    "# set the display width of column to 1000 characters\n",
    "pd.set_option(\"display.width\", 1000)\n",
    "\n",
    "# Load the audible_raw.csv file\n",
    "audible = pd.read_csv(\"audible_uncleaned.csv\")\n",
    "# View the first rows of the dataframe\n",
    "print(audible.head(0))"
   ]
  },
  {
   "cell_type": "markdown",
   "metadata": {},
   "source": [
    "### 💾 The data\n",
    "\n",
    "- \"name\" - The name of the audiobook.\n",
    "- \"author\" - The audiobook's author.\n",
    "- \"narrator\" - The audiobook's narrator.\n",
    "- \"time\" -  The audiobook's duration, in hours and minutes.\n",
    "- \"releasedate\" -  The date the audiobook was published.\n",
    "- \"language\" -  The audiobook's language.\n",
    "- \"stars\" -  The average number of stars (out of 5) and the number of ratings (if available).\n",
    "- \"price\" -  The audiobook's price in INR (Indian Rupee)."
   ]
  },
  {
   "cell_type": "markdown",
   "metadata": {},
   "source": [
    " We can use the `.info()` method to inspect the data types of the columns"
   ]
  },
  {
   "cell_type": "code",
   "execution_count": 55,
   "metadata": {},
   "outputs": [
    {
     "name": "stdout",
     "output_type": "stream",
     "text": [
      "<class 'pandas.core.frame.DataFrame'>\n",
      "RangeIndex: 87489 entries, 0 to 87488\n",
      "Data columns (total 8 columns):\n",
      " #   Column       Non-Null Count  Dtype \n",
      "---  ------       --------------  ----- \n",
      " 0   name         87489 non-null  object\n",
      " 1   author       87489 non-null  object\n",
      " 2   narrator     87489 non-null  object\n",
      " 3   time         87489 non-null  object\n",
      " 4   releasedate  87489 non-null  object\n",
      " 5   language     87489 non-null  object\n",
      " 6   stars        87489 non-null  object\n",
      " 7   price        87489 non-null  object\n",
      "dtypes: object(8)\n",
      "memory usage: 5.3+ MB\n",
      "None\n"
     ]
    }
   ],
   "source": [
    "# Inspect the columns' data types\n",
    "print(audible.info())"
   ]
  },
  {
   "cell_type": "markdown",
   "metadata": {},
   "source": [
    "## Task 2: Clean text data in Author and Narrator columns\n",
    "\n",
    "We will start cleaning some of the text columns like `author` and `narrator`. We can remove the `Writtenby:` and `Narratedby:` portions of the text in those columns.\n",
    "\n",
    "For this, we will use the `.str.replace()` method\n",
    "\n",
    "### Instructions:\n",
    "* Remove 'Writtenby:' from the `author` column\n",
    "* Remove 'Narratedby:' from the `narrator` column\n",
    "* Check the results"
   ]
  },
  {
   "cell_type": "code",
   "execution_count": 56,
   "metadata": {},
   "outputs": [
    {
     "name": "stdout",
     "output_type": "stream",
     "text": [
      "Empty DataFrame\n",
      "Columns: [name, author, narrator, time, releasedate, language, stars, price]\n",
      "Index: []\n",
      "Empty DataFrame\n",
      "Columns: [name, author, narrator, time, releasedate, language, stars, price]\n",
      "Index: []\n"
     ]
    }
   ],
   "source": [
    "# Remove Writtenby: from the author column\n",
    "audible[\"author\"] = audible[\"author\"].str.replace(\"Writtenby:\", \"\", regex=True)\n",
    "# Remove Narratedby: from the narrator column\n",
    "audible[\"narrator\"] = audible[\"narrator\"].str.replace(\"Narratedby:\", \"\", regex=True)\n",
    "# Check the results\n",
    "print(audible[audible[\"author\"].str.contains(\"Writtenby:\", na=False)])\n",
    "print(audible[audible[\"narrator\"].str.contains(\"Narratedby:\", na=False)])"
   ]
  },
  {
   "cell_type": "markdown",
   "metadata": {},
   "source": [
    "## Task 3: Extract number of stars and ratings from Stars column.\n",
    "\n",
    "The `stars` column combines the number of stars and the number of ratins. Let's turn this into numbers and split it into two columns: `rating_stars` and `n_ratings`.\n",
    "\n",
    "First we will use the `.sample()` method to get a glimpse at the type of entries in that column."
   ]
  },
  {
   "cell_type": "code",
   "execution_count": 57,
   "metadata": {},
   "outputs": [
    {
     "name": "stdout",
     "output_type": "stream",
     "text": [
      "13817    5 out of 5 stars7 ratings\n",
      "Name: stars, dtype: object\n"
     ]
    }
   ],
   "source": [
    "# Get a glimpse of the stars column\n",
    "print(audible[\"stars\"].sample())"
   ]
  },
  {
   "cell_type": "markdown",
   "metadata": {},
   "source": [
    "Since there are many instances of `Not rated yet`, let's filter them out and sample again:"
   ]
  },
  {
   "cell_type": "code",
   "execution_count": 58,
   "metadata": {},
   "outputs": [
    {
     "name": "stdout",
     "output_type": "stream",
     "text": [
      "                                                    name          author                                 narrator               time releasedate language          stars     price\n",
      "34     14 Short Stories Bundle for Kids: Adventure, S...  NayomiPhillips  MonicaRachelle,JimD.Johnston,KatieOtten  3 hrs and 13 mins    22-01-19  English  Not rated yet    501.00\n",
      "50                              A Bear Called Paddington     MichaelBond                               StephenFry  2 hrs and 39 mins    24-06-08  English  Not rated yet    266.00\n",
      "51                Gregor and the Curse of the Warmbloods  SuzanneCollins                              PaulBoehmer  7 hrs and 47 mins    26-12-04  English  Not rated yet  1,005.00\n",
      "61                                     Across the Desert    DustiBowling                            StacyGonzalez  6 hrs and 13 mins    29-03-22  English  Not rated yet    703.00\n",
      "62                     Unicorn Academy: Aisha and Silver      JulieSykes                          KristinAtherton   1 hr and 34 mins    10-03-22  English  Not rated yet    266.00\n",
      "...                                                  ...             ...                                      ...                ...         ...      ...            ...       ...\n",
      "87484                          Last Days of the Bus Club    ChrisStewart                             ChrisStewart  7 hrs and 34 mins    09-03-17  English  Not rated yet    596.00\n",
      "87485                                           The Alps   StephenO'Shea                               RobertFass  10 hrs and 7 mins    21-02-17  English  Not rated yet    820.00\n",
      "87486                               The Innocents Abroad       MarkTwain                                FloGibson  19 hrs and 4 mins    30-12-16  English  Not rated yet    938.00\n",
      "87487                              A Sentimental Journey  LaurenceSterne                              AntonLesser   4 hrs and 8 mins    23-02-11  English  Not rated yet    680.00\n",
      "87488                                             Havana   MarkKurlansky                              FleetCooper    6 hrs and 1 min    07-03-17  English  Not rated yet    569.00\n",
      "\n",
      "[72417 rows x 8 columns]\n"
     ]
    }
   ],
   "source": [
    "# Explore the values of the star column that are not 'Not rated yet'\n",
    "print(audible.loc[audible[\"stars\"] == \"Not rated yet\"])"
   ]
  },
  {
   "cell_type": "markdown",
   "metadata": {},
   "source": [
    "As a first step, we can replace the instances of `Not rated yet` with `NaN`"
   ]
  },
  {
   "cell_type": "code",
   "execution_count": 59,
   "metadata": {},
   "outputs": [],
   "source": [
    "# Replace 'Not rated yet' with NaN\n",
    "audible.loc[audible[\"stars\"] == \"Not rated yet\", \"stars\"] = np.nan"
   ]
  },
  {
   "cell_type": "markdown",
   "metadata": {},
   "source": [
    "We can use `.str.extract()` to get the number of stars and the number of ratings into their own columns.\n",
    "\n",
    "### Instructions:\n",
    "* Extract the number of stars into the `rating_stars` column\n",
    "* Extract the number of ratings into the `n_ratings` column\n",
    "* Convert both new columns to float"
   ]
  },
  {
   "cell_type": "code",
   "execution_count": 60,
   "metadata": {},
   "outputs": [
    {
     "name": "stdout",
     "output_type": "stream",
     "text": [
      "float64\n",
      "float64\n"
     ]
    }
   ],
   "source": [
    "# Extract number of stars into rating_stars and turn into float\n",
    "audible[\"rating_stars\"] = audible[\"stars\"].str.extract(r'(\\d+\\.\\d+|\\d+)').astype(float)\n",
    "# Replace the comma, extract number of ratings into n_ratings and turn into float\n",
    "audible[\"n_ratings\"] = audible[\"stars\"].str.replace(\",\",\"\").str.extract(r'(\\d+)\\sratings$').astype(float)\n",
    "# Examine the new rating_stars and n_ratings columns\n",
    "print(audible[\"rating_stars\"].dtype)\n",
    "print(audible[\"n_ratings\"].dtype)"
   ]
  },
  {
   "cell_type": "markdown",
   "metadata": {},
   "source": [
    "As a last step, let's delete the `stars` column using the `.drop` command:"
   ]
  },
  {
   "cell_type": "code",
   "execution_count": 61,
   "metadata": {},
   "outputs": [
    {
     "name": "stdout",
     "output_type": "stream",
     "text": [
      "<class 'pandas.core.frame.DataFrame'>\n",
      "RangeIndex: 87489 entries, 0 to 87488\n",
      "Data columns (total 9 columns):\n",
      " #   Column        Non-Null Count  Dtype  \n",
      "---  ------        --------------  -----  \n",
      " 0   name          87489 non-null  object \n",
      " 1   author        87489 non-null  object \n",
      " 2   narrator      87489 non-null  object \n",
      " 3   time          87489 non-null  object \n",
      " 4   releasedate   87489 non-null  object \n",
      " 5   language      87489 non-null  object \n",
      " 6   price         87489 non-null  object \n",
      " 7   rating_stars  15072 non-null  float64\n",
      " 8   n_ratings     9250 non-null   float64\n",
      "dtypes: float64(2), object(7)\n",
      "memory usage: 6.0+ MB\n",
      "None\n"
     ]
    }
   ],
   "source": [
    "# Drop the stars column\n",
    "audible.drop(columns=[\"stars\"], inplace=True)\n",
    "# Check the results\n",
    "print(audible.info())"
   ]
  },
  {
   "cell_type": "markdown",
   "metadata": {},
   "source": [
    "## Task 4: Change data types\n",
    "\n",
    "Another important step is to have our data in the correct data types\n",
    "\n",
    "### Instructions:\n",
    "* Set `price` to float\n",
    "* Turn `rating_stars` to category\n",
    "* Convert `releasedate` to datetime"
   ]
  },
  {
   "cell_type": "code",
   "execution_count": 62,
   "metadata": {},
   "outputs": [
    {
     "name": "stdout",
     "output_type": "stream",
     "text": [
      "0    468.00\n",
      "1    820.00\n",
      "2    410.00\n",
      "3    615.00\n",
      "4    820.00\n",
      "Name: price, dtype: object\n"
     ]
    }
   ],
   "source": [
    "# Explore the price column\n",
    "print(audible[\"price\"].head())"
   ]
  },
  {
   "cell_type": "markdown",
   "metadata": {},
   "source": [
    "We need to get rid of the comma and the word 'Free' before we can convert the data."
   ]
  },
  {
   "cell_type": "code",
   "execution_count": 63,
   "metadata": {},
   "outputs": [],
   "source": [
    "# Replace the comma with ''\n",
    "audible[\"price\"] = audible[\"price\"].str.replace(',', '')\n",
    "# Replace 'Free' with 0\n",
    "# audible[\"price\"] = audible[\"price\"].str.replace('Free', 0)\n",
    "audible.loc[audible[\"price\"] == \"Free\", \"price\"] = 0\n",
    "# Turn price to float\n",
    "audible[\"price\"] = audible[\"price\"].astype(float)"
   ]
  },
  {
   "cell_type": "markdown",
   "metadata": {},
   "source": [
    "* Turn `rating_stars` to category\n",
    "\n",
    "Since `stars` can only take a small number of discrete values, the best data type for the column is `category`.\n",
    "\n",
    "Let's first look at the unique values in that column to confirm:"
   ]
  },
  {
   "cell_type": "code",
   "execution_count": 64,
   "metadata": {},
   "outputs": [
    {
     "name": "stdout",
     "output_type": "stream",
     "text": [
      "[5.  4.5 4.  nan 3.5 3.  1.  2.  2.5 1.5]\n"
     ]
    }
   ],
   "source": [
    "# Look at the unique values in the rating_stars column\n",
    "print(audible[\"rating_stars\"].unique())"
   ]
  },
  {
   "cell_type": "markdown",
   "metadata": {},
   "source": [
    "We can now use `.astype` to change the data type."
   ]
  },
  {
   "cell_type": "code",
   "execution_count": 65,
   "metadata": {},
   "outputs": [],
   "source": [
    "# Turn rating_stars to category\n",
    "audible[\"rating_stars\"] = audible[\"rating_stars\"].astype('category')"
   ]
  },
  {
   "cell_type": "markdown",
   "metadata": {},
   "source": [
    "* Convert `releasedate` date to datetime\n",
    "\n",
    "Here we will use the `to_datetime()` function to turn the dates into datetime objects:"
   ]
  },
  {
   "cell_type": "code",
   "execution_count": 66,
   "metadata": {},
   "outputs": [
    {
     "name": "stderr",
     "output_type": "stream",
     "text": [
      "C:\\Users\\Dell\\AppData\\Local\\Temp\\ipykernel_13420\\919953980.py:2: UserWarning: Could not infer format, so each element will be parsed individually, falling back to `dateutil`. To ensure parsing is consistent and as-expected, please specify a format.\n",
      "  audible[\"releasedate\"] = pd.to_datetime(audible[\"releasedate\"])\n"
     ]
    },
    {
     "name": "stdout",
     "output_type": "stream",
     "text": [
      "<class 'pandas.core.frame.DataFrame'>\n",
      "RangeIndex: 87489 entries, 0 to 87488\n",
      "Data columns (total 9 columns):\n",
      " #   Column        Non-Null Count  Dtype         \n",
      "---  ------        --------------  -----         \n",
      " 0   name          87489 non-null  object        \n",
      " 1   author        87489 non-null  object        \n",
      " 2   narrator      87489 non-null  object        \n",
      " 3   time          87489 non-null  object        \n",
      " 4   releasedate   87489 non-null  datetime64[ns]\n",
      " 5   language      87489 non-null  object        \n",
      " 6   price         87489 non-null  float64       \n",
      " 7   rating_stars  15072 non-null  category      \n",
      " 8   n_ratings     9250 non-null   float64       \n",
      "dtypes: category(1), datetime64[ns](1), float64(2), object(5)\n",
      "memory usage: 5.4+ MB\n",
      "None\n"
     ]
    }
   ],
   "source": [
    "# Convert releasedate to datetime\n",
    "audible[\"releasedate\"] = pd.to_datetime(audible[\"releasedate\"])\n",
    "# Inspect the dataframe \n",
    "print(audible.info())"
   ]
  },
  {
   "cell_type": "markdown",
   "metadata": {},
   "source": [
    "## Task 5: Extract hours and minutes from the `time` column\n",
    "\n",
    "The `time` column combines the number of hours and minutes into one column. We want to transform and consolidate the information into a new `time_minutes` column."
   ]
  },
  {
   "cell_type": "code",
   "execution_count": 67,
   "metadata": {},
   "outputs": [
    {
     "name": "stdout",
     "output_type": "stream",
     "text": [
      "0     2 hrs and 20 mins\n",
      "1     13 hrs and 8 mins\n",
      "2      2 hrs and 3 mins\n",
      "3    11 hrs and 16 mins\n",
      "4                10 hrs\n",
      "Name: time, dtype: object\n"
     ]
    }
   ],
   "source": [
    "# Explore the values in the time column\n",
    "print(audible[\"time\"].head())"
   ]
  },
  {
   "cell_type": "markdown",
   "metadata": {},
   "source": [
    "Let's see what other ways they have encoded `min` or `minutes`:"
   ]
  },
  {
   "cell_type": "code",
   "execution_count": 68,
   "metadata": {},
   "outputs": [
    {
     "name": "stdout",
     "output_type": "stream",
     "text": [
      "0         2 hrs and 20 mins\n",
      "1         13 hrs and 8 mins\n",
      "2          2 hrs and 3 mins\n",
      "3        11 hrs and 16 mins\n",
      "5        10 hrs and 35 mins\n",
      "                ...        \n",
      "87484     7 hrs and 34 mins\n",
      "87485     10 hrs and 7 mins\n",
      "87486     19 hrs and 4 mins\n",
      "87487      4 hrs and 8 mins\n",
      "87488       6 hrs and 1 min\n",
      "Name: time, Length: 86146, dtype: object\n"
     ]
    }
   ],
   "source": [
    "# Search the entries in the time column for different spellings of min. Let' try min, mins, minutes\n",
    "print(audible.loc[audible[\"time\"].str.contains(r'min|mins|minutes', na=False), \"time\"])"
   ]
  },
  {
   "cell_type": "markdown",
   "metadata": {},
   "source": [
    "We can see that we need to fix the following:\n",
    "* hr, hrs -> consolidate as `hr`\n",
    "* min, mins -> consolidate as `min`\n",
    "* Less than 1 minute -> round to 1 min"
   ]
  },
  {
   "cell_type": "code",
   "execution_count": 69,
   "metadata": {},
   "outputs": [],
   "source": [
    "# Replace hrs, mins, and 'Less than 1 minute'\n",
    "audible[\"time\"] = audible[\"time\"].str.replace(r\"\\bhrs?\\b\", \"hr\", regex=True)\n",
    "audible[\"time\"] = audible[\"time\"].str.replace(r\"\\bmins?\\b\", \"min\", regex=True)\n",
    "audible.loc[audible[\"time\"].str.contains(r\"Less than 1 min\", na=False), \"time\"] = \"1 min\""
   ]
  },
  {
   "cell_type": "markdown",
   "metadata": {},
   "source": [
    "Let's see how it looks now:"
   ]
  },
  {
   "cell_type": "code",
   "execution_count": 70,
   "metadata": {},
   "outputs": [
    {
     "name": "stdout",
     "output_type": "stream",
     "text": [
      "0     2 hr and 20 min\n",
      "1     13 hr and 8 min\n",
      "2      2 hr and 3 min\n",
      "3    11 hr and 16 min\n",
      "4               10 hr\n",
      "Name: time, dtype: object\n"
     ]
    }
   ],
   "source": [
    "# Check the results\n",
    "print(audible[\"time\"].head())"
   ]
  },
  {
   "cell_type": "markdown",
   "metadata": {},
   "source": [
    "The next step is to extract the number of hours and minutes from the text, then combine in a new `time_mins` column.\n",
    "\n",
    "### Instructions: \n",
    "* Extract the number of hours from `time`. Assign to the `hours` variable.\n",
    "* Extract the number of minutes from `time`. Assign to the `mins` variable.\n",
    "* Create the `time_mins` column combining hours and minutes."
   ]
  },
  {
   "cell_type": "code",
   "execution_count": 71,
   "metadata": {},
   "outputs": [
    {
     "name": "stdout",
     "output_type": "stream",
     "text": [
      "0    140\n",
      "1    788\n",
      "2    123\n",
      "3    676\n",
      "4    600\n",
      "Name: time_mins, dtype: int64\n"
     ]
    }
   ],
   "source": [
    "# Extract the number of hours, turn to integer\n",
    "audible[\"hours\"] = audible[\"time\"].str.extract(r'(\\d+)\\s*hr').fillna(0).astype(int)\n",
    "# Extract the number of minutes, turn to integer\n",
    "audible[\"mins\"] = audible[\"time\"].str.extract(r'(\\d+)\\s*min').fillna(0).astype(int)\n",
    "# Combine hours and minutes into the time_mins column\n",
    "audible[\"time_mins\"] = (audible[\"hours\"]*60) + audible[\"mins\"]\n",
    "# Check the results\n",
    "print(audible[\"time_mins\"].head())"
   ]
  },
  {
   "cell_type": "markdown",
   "metadata": {},
   "source": [
    "And as final step, let's delete the columns we don't need any more:"
   ]
  },
  {
   "cell_type": "code",
   "execution_count": 72,
   "metadata": {},
   "outputs": [],
   "source": [
    "# Drop the time column\n",
    "audible.drop(columns=[\"time\"], inplace=True)"
   ]
  },
  {
   "cell_type": "markdown",
   "metadata": {},
   "source": [
    "Here is how our dataframe looks now:"
   ]
  },
  {
   "cell_type": "code",
   "execution_count": 73,
   "metadata": {},
   "outputs": [
    {
     "name": "stdout",
     "output_type": "stream",
     "text": [
      "<class 'pandas.core.frame.DataFrame'>\n",
      "RangeIndex: 87489 entries, 0 to 87488\n",
      "Data columns (total 11 columns):\n",
      " #   Column        Non-Null Count  Dtype         \n",
      "---  ------        --------------  -----         \n",
      " 0   name          87489 non-null  object        \n",
      " 1   author        87489 non-null  object        \n",
      " 2   narrator      87489 non-null  object        \n",
      " 3   releasedate   87489 non-null  datetime64[ns]\n",
      " 4   language      87489 non-null  object        \n",
      " 5   price         87489 non-null  float64       \n",
      " 6   rating_stars  15072 non-null  category      \n",
      " 7   n_ratings     9250 non-null   float64       \n",
      " 8   hours         87489 non-null  int64         \n",
      " 9   mins          87489 non-null  int64         \n",
      " 10  time_mins     87489 non-null  int64         \n",
      "dtypes: category(1), datetime64[ns](1), float64(2), int64(3), object(4)\n",
      "memory usage: 6.8+ MB\n",
      "None\n"
     ]
    }
   ],
   "source": [
    "# Inspect the dataframe \n",
    "print(audible.info())"
   ]
  },
  {
   "cell_type": "markdown",
   "metadata": {},
   "source": [
    "## Task 6: Check data ranges\n",
    "\n",
    "Another important step is to confirm that the values in our columns are in the expected ranges and that we don't have out-of-range values.\n",
    "\n",
    "Let's create a histogram of the numeric columns to visually inspect ht ranges and the shape of the distribution:"
   ]
  },
  {
   "cell_type": "code",
   "execution_count": 74,
   "metadata": {},
   "outputs": [
    {
     "data": {
      "image/png": "[encoded data removed]",
      "text/plain": [
       "<Figure size 1500x1000 with 9 Axes>"
      ]
     },
     "metadata": {},
     "output_type": "display_data"
    }
   ],
   "source": [
    "# Select only the numerical columns\n",
    "numerical_columns = audible.select_dtypes(include=['float64', 'int64'])\n",
    "\n",
    "# Plot histograms for each numerical column\n",
    "numerical_columns.hist(bins=100, figsize=(15, 10), layout=(3, 3))\n",
    "\n",
    "plt.tight_layout()\n",
    "plt.show()"
   ]
  },
  {
   "cell_type": "markdown",
   "metadata": {},
   "source": [
    "Additionally, we can use `.describe()` to look at a summary of our data"
   ]
  },
  {
   "cell_type": "code",
   "execution_count": 75,
   "metadata": {},
   "outputs": [
    {
     "name": "stdout",
     "output_type": "stream",
     "text": [
      "              price     n_ratings         hours          mins     time_mins\n",
      "count  87489.000000   9250.000000  87489.000000  87489.000000  87489.000000\n",
      "mean     559.009246     34.587243      6.489570     28.123456    417.497663\n",
      "std      336.096642    264.025444      6.060178     17.337883    364.559399\n",
      "min        0.000000      2.000000      0.000000      0.000000      1.000000\n",
      "25%      268.000000      2.000000      2.000000     13.000000    142.000000\n",
      "50%      585.000000      5.000000      6.000000     27.000000    386.000000\n",
      "75%      755.000000     14.000000      9.000000     43.000000    584.000000\n",
      "max     7198.000000  12573.000000    143.000000     59.000000   8595.000000\n"
     ]
    }
   ],
   "source": [
    "# Look at the numeric columns\n",
    "print(numerical_columns.describe())"
   ]
  },
  {
   "cell_type": "code",
   "execution_count": 76,
   "metadata": {},
   "outputs": [
    {
     "data": {
      "application/vnd.microsoft.datawrangler.viewer.v0+json": {
       "columns": [
        {
         "name": "index",
         "rawType": "object",
         "type": "string"
        },
        {
         "name": "name",
         "rawType": "object",
         "type": "unknown"
        },
        {
         "name": "author",
         "rawType": "object",
         "type": "unknown"
        },
        {
         "name": "narrator",
         "rawType": "object",
         "type": "unknown"
        },
        {
         "name": "releasedate",
         "rawType": "object",
         "type": "unknown"
        },
        {
         "name": "language",
         "rawType": "object",
         "type": "unknown"
        },
        {
         "name": "rating_stars",
         "rawType": "float64",
         "type": "float"
        }
       ],
       "conversionMethod": "pd.DataFrame",
       "ref": "a1cf6968-6651-48bf-a7ea-3613a9bf99b8",
       "rows": [
        [
         "count",
         "87489",
         "87489",
         "87489",
         "87489",
         "87489",
         "15072.0"
        ],
        [
         "unique",
         "82767",
         "48374",
         "29717",
         null,
         "36",
         "9.0"
        ],
        [
         "top",
         "The Art of War",
         "矢島雅弘,石橋遊",
         "anonymous",
         null,
         "English",
         "5.0"
        ],
        [
         "freq",
         "20",
         "874",
         "1034",
         null,
         "61884",
         "6761.0"
        ],
        [
         "mean",
         null,
         null,
         null,
         "2018-06-22 01:35:29.780886528",
         null,
         null
        ],
        [
         "min",
         null,
         null,
         null,
         "1998-12-27 00:00:00",
         null,
         null
        ],
        [
         "25%",
         null,
         null,
         null,
         "2016-08-30 00:00:00",
         null,
         null
        ],
        [
         "50%",
         null,
         null,
         null,
         "2020-01-30 00:00:00",
         null,
         null
        ],
        [
         "75%",
         null,
         null,
         null,
         "2021-08-04 00:00:00",
         null,
         null
        ],
        [
         "max",
         null,
         null,
         null,
         "2025-11-14 00:00:00",
         null,
         null
        ]
       ],
       "shape": {
        "columns": 6,
        "rows": 10
       }
      },
      "text/html": [
       "<div>\n",
       "<style scoped>\n",
       "    .dataframe tbody tr th:only-of-type {\n",
       "        vertical-align: middle;\n",
       "    }\n",
       "\n",
       "    .dataframe tbody tr th {\n",
       "        vertical-align: top;\n",
       "    }\n",
       "\n",
       "    .dataframe thead th {\n",
       "        text-align: right;\n",
       "    }\n",
       "</style>\n",
       "<table border=\"1\" class=\"dataframe\">\n",
       "  <thead>\n",
       "    <tr style=\"text-align: right;\">\n",
       "      <th></th>\n",
       "      <th>name</th>\n",
       "      <th>author</th>\n",
       "      <th>narrator</th>\n",
       "      <th>releasedate</th>\n",
       "      <th>language</th>\n",
       "      <th>rating_stars</th>\n",
       "    </tr>\n",
       "  </thead>\n",
       "  <tbody>\n",
       "    <tr>\n",
       "      <th>count</th>\n",
       "      <td>87489</td>\n",
       "      <td>87489</td>\n",
       "      <td>87489</td>\n",
       "      <td>87489</td>\n",
       "      <td>87489</td>\n",
       "      <td>15072.0</td>\n",
       "    </tr>\n",
       "    <tr>\n",
       "      <th>unique</th>\n",
       "      <td>82767</td>\n",
       "      <td>48374</td>\n",
       "      <td>29717</td>\n",
       "      <td>NaN</td>\n",
       "      <td>36</td>\n",
       "      <td>9.0</td>\n",
       "    </tr>\n",
       "    <tr>\n",
       "      <th>top</th>\n",
       "      <td>The Art of War</td>\n",
       "      <td>矢島雅弘,石橋遊</td>\n",
       "      <td>anonymous</td>\n",
       "      <td>NaN</td>\n",
       "      <td>English</td>\n",
       "      <td>5.0</td>\n",
       "    </tr>\n",
       "    <tr>\n",
       "      <th>freq</th>\n",
       "      <td>20</td>\n",
       "      <td>874</td>\n",
       "      <td>1034</td>\n",
       "      <td>NaN</td>\n",
       "      <td>61884</td>\n",
       "      <td>6761.0</td>\n",
       "    </tr>\n",
       "    <tr>\n",
       "      <th>mean</th>\n",
       "      <td>NaN</td>\n",
       "      <td>NaN</td>\n",
       "      <td>NaN</td>\n",
       "      <td>2018-06-22 01:35:29.780886528</td>\n",
       "      <td>NaN</td>\n",
       "      <td>NaN</td>\n",
       "    </tr>\n",
       "    <tr>\n",
       "      <th>min</th>\n",
       "      <td>NaN</td>\n",
       "      <td>NaN</td>\n",
       "      <td>NaN</td>\n",
       "      <td>1998-12-27 00:00:00</td>\n",
       "      <td>NaN</td>\n",
       "      <td>NaN</td>\n",
       "    </tr>\n",
       "    <tr>\n",
       "      <th>25%</th>\n",
       "      <td>NaN</td>\n",
       "      <td>NaN</td>\n",
       "      <td>NaN</td>\n",
       "      <td>2016-08-30 00:00:00</td>\n",
       "      <td>NaN</td>\n",
       "      <td>NaN</td>\n",
       "    </tr>\n",
       "    <tr>\n",
       "      <th>50%</th>\n",
       "      <td>NaN</td>\n",
       "      <td>NaN</td>\n",
       "      <td>NaN</td>\n",
       "      <td>2020-01-30 00:00:00</td>\n",
       "      <td>NaN</td>\n",
       "      <td>NaN</td>\n",
       "    </tr>\n",
       "    <tr>\n",
       "      <th>75%</th>\n",
       "      <td>NaN</td>\n",
       "      <td>NaN</td>\n",
       "      <td>NaN</td>\n",
       "      <td>2021-08-04 00:00:00</td>\n",
       "      <td>NaN</td>\n",
       "      <td>NaN</td>\n",
       "    </tr>\n",
       "    <tr>\n",
       "      <th>max</th>\n",
       "      <td>NaN</td>\n",
       "      <td>NaN</td>\n",
       "      <td>NaN</td>\n",
       "      <td>2025-11-14 00:00:00</td>\n",
       "      <td>NaN</td>\n",
       "      <td>NaN</td>\n",
       "    </tr>\n",
       "  </tbody>\n",
       "</table>\n",
       "</div>"
      ],
      "text/plain": [
       "                  name    author   narrator                    releasedate language  rating_stars\n",
       "count            87489     87489      87489                          87489    87489       15072.0\n",
       "unique           82767     48374      29717                            NaN       36           9.0\n",
       "top     The Art of War  矢島雅弘,石橋遊  anonymous                            NaN  English           5.0\n",
       "freq                20       874       1034                            NaN    61884        6761.0\n",
       "mean               NaN       NaN        NaN  2018-06-22 01:35:29.780886528      NaN           NaN\n",
       "min                NaN       NaN        NaN            1998-12-27 00:00:00      NaN           NaN\n",
       "25%                NaN       NaN        NaN            2016-08-30 00:00:00      NaN           NaN\n",
       "50%                NaN       NaN        NaN            2020-01-30 00:00:00      NaN           NaN\n",
       "75%                NaN       NaN        NaN            2021-08-04 00:00:00      NaN           NaN\n",
       "max                NaN       NaN        NaN            2025-11-14 00:00:00      NaN           NaN"
      ]
     },
     "execution_count": 76,
     "metadata": {},
     "output_type": "execute_result"
    }
   ],
   "source": [
    "# Look at the non numeric columns\n",
    "audible.describe(exclude=[np.number])"
   ]
  },
  {
   "cell_type": "markdown",
   "metadata": {},
   "source": [
    "We will transform the prices in `price` to USD for this exercise. We can use the exchange rate of 1 USD = 0.012 INR:"
   ]
  },
  {
   "cell_type": "code",
   "execution_count": 77,
   "metadata": {},
   "outputs": [
    {
     "name": "stdout",
     "output_type": "stream",
     "text": [
      "count    87489.000000\n",
      "mean         6.708111\n",
      "std          4.033160\n",
      "min          0.000000\n",
      "25%          3.216000\n",
      "50%          7.020000\n",
      "75%          9.060000\n",
      "max         86.376000\n",
      "Name: price, dtype: float64\n"
     ]
    }
   ],
   "source": [
    "# Transform prices to USD (multiply times 0.012)\n",
    "audible[\"price\"] = audible[\"price\"] * 0.012\n",
    "# Check the results\n",
    "print(audible[\"price\"].describe())"
   ]
  },
  {
   "cell_type": "markdown",
   "metadata": {},
   "source": [
    "There values in the `language` column have different capitalization. Let's fix that."
   ]
  },
  {
   "cell_type": "code",
   "execution_count": 78,
   "metadata": {},
   "outputs": [
    {
     "data": {
      "text/plain": [
       "0    English\n",
       "1    English\n",
       "2    English\n",
       "3    English\n",
       "4    English\n",
       "Name: language, dtype: object"
      ]
     },
     "execution_count": 78,
     "metadata": {},
     "output_type": "execute_result"
    }
   ],
   "source": [
    "# Inspect the language column before making changes\n",
    "audible.language.head()"
   ]
  },
  {
   "cell_type": "code",
   "execution_count": 79,
   "metadata": {},
   "outputs": [
    {
     "name": "stdout",
     "output_type": "stream",
     "text": [
      "['English' 'Hindi' 'Spanish' 'German' 'French' 'Catalan' 'Swedish'\n",
      " 'Italian' 'Danish' 'Finnish' 'Dutch' 'Hebrew' 'Russian' 'Polish'\n",
      " 'Galician' 'Afrikaans' 'Icelandic' 'Romanian' 'Japanese' 'Tamil'\n",
      " 'Portuguese' 'Urdu' 'Hungarian' 'Czech' 'Bulgarian' 'Mandarin_chinese'\n",
      " 'Basque' 'Korean' 'Arabic' 'Greek' 'Turkish' 'Ukrainian' 'Slovene'\n",
      " 'Norwegian' 'Telugu' 'Lithuanian']\n"
     ]
    }
   ],
   "source": [
    "# Update capitalization in the language column\n",
    "audible[\"language\"] = audible[\"language\"].str.capitalize()\n",
    "# Check the results\n",
    "print(audible[\"language\"].unique())"
   ]
  },
  {
   "cell_type": "markdown",
   "metadata": {},
   "source": [
    "## Task 7: Checking for duplicates\n",
    "\n",
    "How many duplicates do we have?\n",
    "\n",
    "As a first step look for duplicates using `.duplicated()` and `.sum()`:"
   ]
  },
  {
   "cell_type": "code",
   "execution_count": 80,
   "metadata": {},
   "outputs": [
    {
     "name": "stdout",
     "output_type": "stream",
     "text": [
      "0\n"
     ]
    }
   ],
   "source": [
    "# Look for duplicate rows\n",
    "print(audible.duplicated().sum())"
   ]
  },
  {
   "cell_type": "markdown",
   "metadata": {},
   "source": [
    "It is useful to look for duplicates only using a subset of the columns that make sense. We will use the following subset of columns:\n",
    "* name\n",
    "* author\n",
    "* narrator\n",
    "* time_mins\n",
    "* price\n",
    "\n",
    "Here we use `.duplicated()` again, but with our subset of columns."
   ]
  },
  {
   "cell_type": "code",
   "execution_count": 81,
   "metadata": {},
   "outputs": [
    {
     "name": "stdout",
     "output_type": "stream",
     "text": [
      "0        False\n",
      "1        False\n",
      "2        False\n",
      "3        False\n",
      "4        False\n",
      "         ...  \n",
      "87484    False\n",
      "87485    False\n",
      "87486    False\n",
      "87487    False\n",
      "87488    False\n",
      "Length: 87489, dtype: bool\n"
     ]
    }
   ],
   "source": [
    "# Create a list of our subset columns and assign to subset_cols\n",
    "subset = [\"name\", \"author\", \"narrator\", \"time_mins\", \"price\"]\n",
    "# Check for duplicates using our subset of columns\n",
    "print(audible.duplicated(subset=subset))"
   ]
  },
  {
   "cell_type": "markdown",
   "metadata": {},
   "source": [
    "Let's look at those values (use `keep=false`) and see what is going on:"
   ]
  },
  {
   "cell_type": "code",
   "execution_count": 82,
   "metadata": {},
   "outputs": [
    {
     "name": "stdout",
     "output_type": "stream",
     "text": [
      "                                              name                    author       narrator releasedate language   price rating_stars  n_ratings  hours  mins  time_mins\n",
      "63978      \"Das Böse ist des Menschen beste Kraft\"         ChristianLiederer   ThomasKrause  2021-12-14   German   2.796          NaN        NaN      2    24        144\n",
      "24625                         90 Minutes in Heaven     DonPiper,CecilMurphey       DonPiper  2015-09-25  English   7.032          NaN        NaN      8    15        495\n",
      "16971                                 Adagio in Dm                 BillBrown      BillBrown  2021-06-08  English   5.472          NaN        NaN      1    18         78\n",
      "69956                                     Ambiance                RasmusBroe     RasmusBroe  2021-06-16   French   2.700          NaN        NaN      4    29        269\n",
      "62272                                Atomic Habits                JamesClear     JamesClear  2018-10-18  English   9.840          5.0    12573.0      5    35        335\n",
      "...                                            ...                       ...            ...         ...      ...     ...          ...        ...    ...   ...        ...\n",
      "61988         Vom ersten Kuss bis zum Ja, ich will             BerndTameling  BerndTameling  2022-02-02   German   2.796          NaN        NaN      0    48         48\n",
      "67521                                    Waking Up                 SamHarris      SamHarris  2014-10-16  English   9.840          4.5      101.0      5    51        351\n",
      "33922  What I Talk About When I Talk About Running            HarukiMurakami      RayPorter  2016-07-07  English   4.776          4.5      194.0      4    23        263\n",
      "38021                   When Women Ruled the World                KaraCooney     KaraCooney  2018-11-30  English  10.032          4.5       14.0      9    15        555\n",
      "64428                                Wings of Fire  APJAbdulKalam,ArunTiwari   GirishKarnad  2020-01-04  English   0.900          5.0     1827.0      1    15         75\n",
      "\n",
      "[70 rows x 11 columns]\n"
     ]
    }
   ],
   "source": [
    "# Check the duplicated rows keeping the duplicates and order by the name column\n",
    "print(audible[audible.duplicated(subset=subset)].sort_values(by=\"name\"))"
   ]
  },
  {
   "cell_type": "markdown",
   "metadata": {},
   "source": [
    "We can see that the duplicates are for files with different release dates. We can decide to keep the record with the last release date.\n",
    "\n",
    "We will can use the `drop_duplicates()` method with the same subset and using `keep=last` to keep the last release date"
   ]
  },
  {
   "cell_type": "code",
   "execution_count": 83,
   "metadata": {},
   "outputs": [],
   "source": [
    "# Drop duplicated rows keeping the last release date\n",
    "# The parameter keep=\"last\" means that in case of duplicates, the last occurrence will be kept.\n",
    "audible.drop_duplicates(subset=subset, keep=\"last\", inplace=True)"
   ]
  },
  {
   "cell_type": "markdown",
   "metadata": {},
   "source": [
    "We can check again for duplicates:"
   ]
  },
  {
   "cell_type": "code",
   "execution_count": 84,
   "metadata": {},
   "outputs": [
    {
     "name": "stdout",
     "output_type": "stream",
     "text": [
      "Empty DataFrame\n",
      "Columns: [name, author, narrator, releasedate, language, price, rating_stars, n_ratings, hours, mins, time_mins]\n",
      "Index: []\n"
     ]
    }
   ],
   "source": [
    "# Check again for duplicates using our subset of columns\n",
    "print(audible[audible.duplicated(subset=subset)].sort_values(by=\"name\"))"
   ]
  },
  {
   "cell_type": "markdown",
   "metadata": {},
   "source": [
    "## Task 8: Dealing with missing data\n",
    "\n",
    "Before we finish, let's take a look at missing data in our columns. We can use the `.isna()` method and chain it with `.sum()` to get the total:"
   ]
  },
  {
   "cell_type": "code",
   "execution_count": 85,
   "metadata": {},
   "outputs": [
    {
     "name": "stdout",
     "output_type": "stream",
     "text": [
      "name                0\n",
      "author              0\n",
      "narrator            0\n",
      "releasedate         0\n",
      "language            0\n",
      "price               0\n",
      "rating_stars    72387\n",
      "n_ratings       78208\n",
      "hours               0\n",
      "mins                0\n",
      "time_mins           0\n",
      "dtype: int64\n"
     ]
    }
   ],
   "source": [
    "# Check for null values\n",
    "print(audible.isnull().sum())"
   ]
  },
  {
   "cell_type": "markdown",
   "metadata": {},
   "source": [
    "We could turn the NaN values to 0 or another numeric value, or we could keep them. It depends on our use case.\n",
    "\n",
    "If we want to plot the ratings distribution, it can make sense to drop audiobooks with no ratings. But if we need to use the distribution of prices for our analysis, then removing audiobooks with no ratings will bias our results (since unrated audiobooks are likely more niche and might have a different pricing structure than rated audiobooks).\n",
    "\n",
    "We will keep the unrated audiobooks for now."
   ]
  },
  {
   "cell_type": "markdown",
   "metadata": {},
   "source": [
    "## Task 9: Save the cleaned data set\n",
    "\n",
    "We can use the `.to_csv` method to save the clean file. We include `index=False` so that we don't also copy the current index to our destination file."
   ]
  },
  {
   "cell_type": "code",
   "execution_count": 86,
   "metadata": {},
   "outputs": [],
   "source": [
    "audible.to_csv(\"audible_clean.csv\", index=False)"
   ]
  }
 ],
 "metadata": {
  "kernelspec": {
   "display_name": "Python 3",
   "language": "python",
   "name": "python3"
  },
  "language_info": {
   "codemirror_mode": {
    "name": "ipython",
    "version": 3
   },
   "file_extension": ".py",
   "mimetype": "text/x-python",
   "name": "python",
   "nbconvert_exporter": "python",
   "pygments_lexer": "ipython3",
   "version": "3.12.4"
  }
 },
 "nbformat": 4,
 "nbformat_minor": 2
}
